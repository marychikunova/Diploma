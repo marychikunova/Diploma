{
 "cells": [
  {
   "cell_type": "markdown",
   "metadata": {},
   "source": [
    "# Разработка алгоритма классификации требований нормативных документов с использованием машинного обучения."
   ]
  },
  {
   "cell_type": "code",
   "execution_count": 1,
   "metadata": {},
   "outputs": [],
   "source": [
    "import pandas as pd\n",
    "import numpy as np\n",
    "\n",
    "import re\n",
    "import string\n",
    "import nltk\n",
    "from nltk.stem import WordNetLemmatizer\n",
    "from sklearn.feature_extraction.text import CountVectorizer\n",
    "from sklearn.feature_extraction.text import TfidfTransformer\n",
    "\n",
    "from sklearn.model_selection import train_test_split\n",
    "from sklearn import preprocessing\n",
    "\n",
    "import matplotlib.pyplot as plt\n",
    "from sklearn.model_selection import RandomizedSearchCV\n",
    "from sklearn.model_selection import cross_val_score\n",
    "from sklearn.naive_bayes import GaussianNB\n",
    "from sklearn.naive_bayes import MultinomialNB\n",
    "from sklearn.naive_bayes import BernoulliNB\n",
    "from xgboost import XGBClassifier\n",
    "from sklearn import metrics"
   ]
  },
  {
   "cell_type": "code",
   "execution_count": 2,
   "metadata": {},
   "outputs": [],
   "source": [
    "def normalization_v2(text):\n",
    "    text = text.lower()\n",
    "    text = text.translate(str.maketrans('', '', string.punctuation))\n",
    "    text = text.replace(\"‘\", '‘').replace(\"’\", '’').replace(\"'\", \" '\")\n",
    "    text = re.sub(r\"['‘’]\\w+\\b\", '', text)\n",
    "    text = re.sub(r\"['‘’]\", '', text)\n",
    "    text = re.sub(r'[“”\"•]', '', text)\n",
    "    \n",
    "    x = re.findall(r\"\\d\", \"ldcnk skjnk njdjm\")    #numbers in text\n",
    "    \n",
    "    text = re.sub(r'(\\d\\.\\s)+', '', text)\n",
    "    text = re.sub(r'(\\d\\.)+', '', text)\n",
    "    text = re.sub(r'\\d+', '', text)\n",
    "    text = re.sub(r\"–\", '', text)\n",
    "#    text = re.sub(r\"\\s\\w\\s\", '', text)\n",
    "    if len(x) > 0:                              #marker that there were numbers in text\n",
    "        text += '11111'\n",
    "    text = text.strip()\n",
    "    lemma = WordNetLemmatizer()\n",
    "    tokens = nltk.word_tokenize(text)\n",
    "    tokens = [lemma.lemmatize(word, pos = \"v\") for word in tokens]\n",
    "    tokens = [lemma.lemmatize(word, pos = \"n\") for word in tokens]\n",
    "    text = \"\"\n",
    "    for tok in tokens:\n",
    "        text += tok\n",
    "        text += \" \"\n",
    "    return text"
   ]
  },
  {
   "cell_type": "code",
   "execution_count": 3,
   "metadata": {},
   "outputs": [
    {
     "data": {
      "text/html": [
       "<div>\n",
       "<style scoped>\n",
       "    .dataframe tbody tr th:only-of-type {\n",
       "        vertical-align: middle;\n",
       "    }\n",
       "\n",
       "    .dataframe tbody tr th {\n",
       "        vertical-align: top;\n",
       "    }\n",
       "\n",
       "    .dataframe thead th {\n",
       "        text-align: right;\n",
       "    }\n",
       "</style>\n",
       "<table border=\"1\" class=\"dataframe\">\n",
       "  <thead>\n",
       "    <tr style=\"text-align: right;\">\n",
       "      <th></th>\n",
       "      <th>Source document ID</th>\n",
       "      <th>CI_ID</th>\n",
       "      <th>CI_Version</th>\n",
       "      <th>CI_Description EN</th>\n",
       "      <th>DocumentObjectClass</th>\n",
       "    </tr>\n",
       "  </thead>\n",
       "  <tbody>\n",
       "    <tr>\n",
       "      <th>0</th>\n",
       "      <td>IAEA-GSR2</td>\n",
       "      <td>IAEA-GSR2-1</td>\n",
       "      <td>6-2016</td>\n",
       "      <td>Requirement 1: Achieving the fundamental safet...</td>\n",
       "      <td>Requirement</td>\n",
       "    </tr>\n",
       "    <tr>\n",
       "      <th>1</th>\n",
       "      <td>IAEA-GSR2</td>\n",
       "      <td>IAEA-GSR2-1-2.2</td>\n",
       "      <td>6-2016</td>\n",
       "      <td>2.2. The senior management of organizations, i...</td>\n",
       "      <td>Requirement</td>\n",
       "    </tr>\n",
       "    <tr>\n",
       "      <th>2</th>\n",
       "      <td>IAEA-GSR2</td>\n",
       "      <td>IAEA-GSR2-2-3.1</td>\n",
       "      <td>6-2016</td>\n",
       "      <td>3.1. The senior management of the organization...</td>\n",
       "      <td>Requirement</td>\n",
       "    </tr>\n",
       "    <tr>\n",
       "      <th>3</th>\n",
       "      <td>IAEA-GSR2</td>\n",
       "      <td>IAEA-GSR2-2-3.3</td>\n",
       "      <td>6-2016</td>\n",
       "      <td>3.3. Managers at all levels in the organizatio...</td>\n",
       "      <td>Requirement</td>\n",
       "    </tr>\n",
       "    <tr>\n",
       "      <th>4</th>\n",
       "      <td>IAEA-GSR2</td>\n",
       "      <td>IAEA-GSR2-3-4.1</td>\n",
       "      <td>6-2016</td>\n",
       "      <td>4.1. Senior management shall retain accountabi...</td>\n",
       "      <td>Requirement</td>\n",
       "    </tr>\n",
       "    <tr>\n",
       "      <th>5</th>\n",
       "      <td>IAEA-GSR2</td>\n",
       "      <td>IAEA-GSR2-4</td>\n",
       "      <td>6-2016</td>\n",
       "      <td>Requirement 4: Goals, strategies, plans and ob...</td>\n",
       "      <td>Requirement</td>\n",
       "    </tr>\n",
       "    <tr>\n",
       "      <th>6</th>\n",
       "      <td>IAEA-GSR2</td>\n",
       "      <td>IAEA-GSR2-4-4.4</td>\n",
       "      <td>6-2016</td>\n",
       "      <td>4.4. Senior management shall ensure that measu...</td>\n",
       "      <td>Requirement</td>\n",
       "    </tr>\n",
       "  </tbody>\n",
       "</table>\n",
       "</div>"
      ],
      "text/plain": [
       "  Source document ID            CI_ID CI_Version  \\\n",
       "0          IAEA-GSR2      IAEA-GSR2-1     6-2016   \n",
       "1          IAEA-GSR2  IAEA-GSR2-1-2.2     6-2016   \n",
       "2          IAEA-GSR2  IAEA-GSR2-2-3.1     6-2016   \n",
       "3          IAEA-GSR2  IAEA-GSR2-2-3.3     6-2016   \n",
       "4          IAEA-GSR2  IAEA-GSR2-3-4.1     6-2016   \n",
       "5          IAEA-GSR2      IAEA-GSR2-4     6-2016   \n",
       "6          IAEA-GSR2  IAEA-GSR2-4-4.4     6-2016   \n",
       "\n",
       "                                   CI_Description EN DocumentObjectClass  \n",
       "0  Requirement 1: Achieving the fundamental safet...         Requirement  \n",
       "1  2.2. The senior management of organizations, i...         Requirement  \n",
       "2  3.1. The senior management of the organization...         Requirement  \n",
       "3  3.3. Managers at all levels in the organizatio...         Requirement  \n",
       "4  4.1. Senior management shall retain accountabi...         Requirement  \n",
       "5  Requirement 4: Goals, strategies, plans and ob...         Requirement  \n",
       "6  4.4. Senior management shall ensure that measu...         Requirement  "
      ]
     },
     "execution_count": 3,
     "metadata": {},
     "output_type": "execute_result"
    }
   ],
   "source": [
    "df_1 = pd.read_csv('Train_Standards-Table_clear.csv', sep=';', header = None)\n",
    "df_1.columns=['Source document ID', 'CI_ID', 'CI_Version', 'CI_Description EN', 'DocumentObjectClass']\n",
    "df_1.head(7)"
   ]
  },
  {
   "cell_type": "code",
   "execution_count": 4,
   "metadata": {},
   "outputs": [
    {
     "data": {
      "text/html": [
       "<div>\n",
       "<style scoped>\n",
       "    .dataframe tbody tr th:only-of-type {\n",
       "        vertical-align: middle;\n",
       "    }\n",
       "\n",
       "    .dataframe tbody tr th {\n",
       "        vertical-align: top;\n",
       "    }\n",
       "\n",
       "    .dataframe thead th {\n",
       "        text-align: right;\n",
       "    }\n",
       "</style>\n",
       "<table border=\"1\" class=\"dataframe\">\n",
       "  <thead>\n",
       "    <tr style=\"text-align: right;\">\n",
       "      <th></th>\n",
       "      <th>Source document ID</th>\n",
       "      <th>CI_ID</th>\n",
       "      <th>CI_Version</th>\n",
       "      <th>CI_Description EN</th>\n",
       "      <th>DocumentObjectClass</th>\n",
       "    </tr>\n",
       "  </thead>\n",
       "  <tbody>\n",
       "    <tr>\n",
       "      <th>0</th>\n",
       "      <td>IAEA-GSR2</td>\n",
       "      <td>IAEA-GSR2-1-2.1</td>\n",
       "      <td>6-2016</td>\n",
       "      <td>2.1. The registrant or licensee shall ensure t...</td>\n",
       "      <td>Requirement</td>\n",
       "    </tr>\n",
       "    <tr>\n",
       "      <th>1</th>\n",
       "      <td>IAEA-GSR2</td>\n",
       "      <td>IAEA-GSR2-2</td>\n",
       "      <td>6-2016</td>\n",
       "      <td>Requirement 2: Demonstration of leadership for...</td>\n",
       "      <td>Requirement</td>\n",
       "    </tr>\n",
       "    <tr>\n",
       "      <th>2</th>\n",
       "      <td>IAEA-GSR2</td>\n",
       "      <td>IAEA-GSR2-2-3.2</td>\n",
       "      <td>6-2016</td>\n",
       "      <td>3.2. Managers at all levels in the organizatio...</td>\n",
       "      <td>Requirement</td>\n",
       "    </tr>\n",
       "    <tr>\n",
       "      <th>3</th>\n",
       "      <td>IAEA-GSR2</td>\n",
       "      <td>IAEA-GSR2-3</td>\n",
       "      <td>6-2016</td>\n",
       "      <td>Requirement 3: Responsibility of senior manage...</td>\n",
       "      <td>Requirement</td>\n",
       "    </tr>\n",
       "    <tr>\n",
       "      <th>4</th>\n",
       "      <td>IAEA-GSR2</td>\n",
       "      <td>IAEA-GSR2-3-4.2</td>\n",
       "      <td>6-2016</td>\n",
       "      <td>4.2. Senior management shall be responsible fo...</td>\n",
       "      <td>Requirement</td>\n",
       "    </tr>\n",
       "  </tbody>\n",
       "</table>\n",
       "</div>"
      ],
      "text/plain": [
       "  Source document ID            CI_ID CI_Version  \\\n",
       "0          IAEA-GSR2  IAEA-GSR2-1-2.1     6-2016   \n",
       "1          IAEA-GSR2      IAEA-GSR2-2     6-2016   \n",
       "2          IAEA-GSR2  IAEA-GSR2-2-3.2     6-2016   \n",
       "3          IAEA-GSR2      IAEA-GSR2-3     6-2016   \n",
       "4          IAEA-GSR2  IAEA-GSR2-3-4.2     6-2016   \n",
       "\n",
       "                                   CI_Description EN DocumentObjectClass  \n",
       "0  2.1. The registrant or licensee shall ensure t...         Requirement  \n",
       "1  Requirement 2: Demonstration of leadership for...         Requirement  \n",
       "2  3.2. Managers at all levels in the organizatio...         Requirement  \n",
       "3  Requirement 3: Responsibility of senior manage...         Requirement  \n",
       "4  4.2. Senior management shall be responsible fo...         Requirement  "
      ]
     },
     "execution_count": 4,
     "metadata": {},
     "output_type": "execute_result"
    }
   ],
   "source": [
    "df_2 = pd.read_csv('Test_Standards-Table_clear.csv', sep=';', header = None)\n",
    "df_2.columns=['Source document ID', 'CI_ID', 'CI_Version', 'CI_Description EN', 'DocumentObjectClass']\n",
    "df_2.head()"
   ]
  },
  {
   "cell_type": "code",
   "execution_count": 5,
   "metadata": {},
   "outputs": [
    {
     "data": {
      "text/plain": [
       "0    Requirement 1: Achieving the fundamental safet...\n",
       "1    2.2. The senior management of organizations, i...\n",
       "2    3.1. The senior management of the organization...\n",
       "3    3.3. Managers at all levels in the organizatio...\n",
       "4    4.1. Senior management shall retain accountabi...\n",
       "5    Requirement 4: Goals, strategies, plans and ob...\n",
       "6    4.4. Senior management shall ensure that measu...\n",
       "7    Requirement 5: Interaction with interested par...\n",
       "8    4.7. Senior management shall ensure that the p...\n",
       "9    4.8. The management system shall be developed,...\n",
       "Name: CI_Description EN, dtype: object"
      ]
     },
     "execution_count": 5,
     "metadata": {},
     "output_type": "execute_result"
    }
   ],
   "source": [
    "df_1['CI_Description EN'].head(10)"
   ]
  },
  {
   "cell_type": "code",
   "execution_count": 6,
   "metadata": {},
   "outputs": [],
   "source": [
    "df1 = pd.DataFrame(columns=['text', 'class'])\n",
    "df2 = pd.DataFrame(columns=['text', 'class'])\n",
    "df1['text'] = df_1['CI_Description EN']\n",
    "df1['class'] = df_1['DocumentObjectClass']\n",
    "df2['text'] = df_2['CI_Description EN']\n",
    "df2['class'] = df_2['DocumentObjectClass']\n",
    "df1['data'] = df1['text'].str.lower()\n",
    "df2['data'] = df2['text'].str.lower()\n",
    "df1['data'] = df1['data'].apply(lambda x: normalization_v2(x))\n",
    "df2['data'] = df2['data'].apply(lambda x: normalization_v2(x))"
   ]
  },
  {
   "cell_type": "code",
   "execution_count": 7,
   "metadata": {},
   "outputs": [
    {
     "data": {
      "text/plain": [
       "0    requirement achieve the fundamental safety obj...\n",
       "1    the senior management of organization in accor...\n",
       "2    the senior management of the organization shal...\n",
       "3    manager at all level in the organization a sha...\n",
       "4    senior management shall retain accountability ...\n",
       "Name: data, dtype: object"
      ]
     },
     "execution_count": 7,
     "metadata": {},
     "output_type": "execute_result"
    }
   ],
   "source": [
    "df1['data'].head()"
   ]
  },
  {
   "cell_type": "code",
   "execution_count": 8,
   "metadata": {},
   "outputs": [],
   "source": [
    "count_vect = CountVectorizer()\n",
    "X_counts = count_vect.fit_transform(df1['data'])\n",
    "tfidf_transformer = TfidfTransformer()\n",
    "train_tfidf_transformer = tfidf_transformer.fit(X_counts)"
   ]
  },
  {
   "cell_type": "code",
   "execution_count": 9,
   "metadata": {},
   "outputs": [],
   "source": [
    "X_train = train_tfidf_transformer.transform(X_counts)\n",
    "le = preprocessing.LabelEncoder()\n",
    "le.fit(df1['class'])\n",
    "y_train = le.transform(df1['class'])"
   ]
  },
  {
   "cell_type": "code",
   "execution_count": 10,
   "metadata": {},
   "outputs": [],
   "source": [
    "X_test = train_tfidf_transformer.transform(count_vect.transform(df2['data']))\n",
    "le = preprocessing.LabelEncoder()\n",
    "le.fit(df2['class'])\n",
    "y_test = le.transform(df2['class'])"
   ]
  },
  {
   "cell_type": "code",
   "execution_count": 11,
   "metadata": {},
   "outputs": [
    {
     "data": {
      "text/plain": [
       "0    Requirement 1: Achieving the fundamental safet...\n",
       "1    2.2. The senior management of organizations, i...\n",
       "2    3.1. The senior management of the organization...\n",
       "3    3.3. Managers at all levels in the organizatio...\n",
       "4    4.1. Senior management shall retain accountabi...\n",
       "Name: CI_Description EN, dtype: object"
      ]
     },
     "execution_count": 11,
     "metadata": {},
     "output_type": "execute_result"
    }
   ],
   "source": [
    "df_1['CI_Description EN'].head()"
   ]
  },
  {
   "cell_type": "code",
   "execution_count": 12,
   "metadata": {},
   "outputs": [
    {
     "data": {
      "text/plain": [
       "<1880x2580 sparse matrix of type '<class 'numpy.float64'>'\n",
       "\twith 44503 stored elements in Compressed Sparse Row format>"
      ]
     },
     "execution_count": 12,
     "metadata": {},
     "output_type": "execute_result"
    }
   ],
   "source": [
    "X_train"
   ]
  },
  {
   "cell_type": "code",
   "execution_count": 13,
   "metadata": {},
   "outputs": [
    {
     "data": {
      "text/plain": [
       "0    Requirement\n",
       "1    Requirement\n",
       "2    Requirement\n",
       "3    Requirement\n",
       "4    Requirement\n",
       "Name: DocumentObjectClass, dtype: object"
      ]
     },
     "execution_count": 13,
     "metadata": {},
     "output_type": "execute_result"
    }
   ],
   "source": [
    "df_1['DocumentObjectClass'].head()"
   ]
  },
  {
   "cell_type": "code",
   "execution_count": 14,
   "metadata": {},
   "outputs": [
    {
     "data": {
      "text/plain": [
       "array([3, 3, 3, ..., 3, 3, 3])"
      ]
     },
     "execution_count": 14,
     "metadata": {},
     "output_type": "execute_result"
    }
   ],
   "source": [
    "y_train"
   ]
  },
  {
   "cell_type": "markdown",
   "metadata": {},
   "source": [
    "## Modal verb Shall"
   ]
  },
  {
   "cell_type": "code",
   "execution_count": 15,
   "metadata": {},
   "outputs": [
    {
     "name": "stdout",
     "output_type": "stream",
     "text": [
      "precision = 0.9820742637644047\n",
      "recall = 0.5304287690179806\n",
      "f1 = 0.688819039066008\n"
     ]
    }
   ],
   "source": [
    "TP = 0\n",
    "FP = 0\n",
    "TN = 0\n",
    "FN = 0\n",
    "\n",
    "for i in range(len(df2['data'])):\n",
    "    if (df2['data'][i].find('shall') != -1 and df2['class'][i] == 'Requirement'): TP += 1\n",
    "    elif (df2['data'][i].find('shall') != -1 and df2['class'][i] != 'Requirement'): FP += 1\n",
    "    elif (df2['data'][i].find('shall') == -1 and df2['class'][i] == 'Requirement'): FN += 1\n",
    "    elif (df2['data'][i].find('shall') == -1 and df2['class'][i] != 'Requirement'): TN += 1\n",
    "        \n",
    "precision = TP / (TP + FP)\n",
    "recall = TP / (TP + FN)\n",
    "f1 = 2 * TP / (2 * TP + FP + FN)\n",
    "\n",
    "print ('precision =', precision)\n",
    "print ('recall =', recall)\n",
    "print ('f1 =', f1)"
   ]
  },
  {
   "cell_type": "code",
   "execution_count": 16,
   "metadata": {},
   "outputs": [],
   "source": [
    "# Compute ROC curve and ROC area for each class\n",
    "fpr = dict()\n",
    "tpr = dict()\n",
    "roc_auc = dict()\n",
    "\n",
    "length = len(df2)\n",
    "\n",
    "y_test_roc = np.zeros(length)\n",
    "y_pred_roc = np.zeros(length)\n",
    "\n",
    "for i in range (length):\n",
    "     if (df2['class'][i] == 'Requirement'): y_test_roc[i] = 1\n",
    "        \n",
    "for i in range (length):\n",
    "    shall = df2['data'][i].find('shall')\n",
    "    if (shall != -1):\n",
    "        y_pred_roc[i] = 1\n",
    "        \n",
    "fpr, tpr, thresholds = metrics.roc_curve(y_test_roc, y_pred_roc)"
   ]
  },
  {
   "cell_type": "code",
   "execution_count": 17,
   "metadata": {},
   "outputs": [
    {
     "data": {
      "image/png": "[encoded data removed]",
      "text/plain": [
       "<Figure size 432x288 with 1 Axes>"
      ]
     },
     "metadata": {
      "needs_background": "light"
     },
     "output_type": "display_data"
    }
   ],
   "source": [
    "fig, ax = plt.subplots()\n",
    "\n",
    "ax.plot(fpr, tpr)\n",
    "ax.plot([0, 1], [0, 1], 'k--')\n",
    "plt.xlim([0.0, 1.0])\n",
    "plt.ylim([0.0, 1.0])\n",
    "plt.xlabel('False Positive Rate')\n",
    "plt.ylabel('True Positive Rate')\n",
    "plt.title('ROC curve Modal verb Shall')\n",
    "plt.show()\n",
    "\n",
    "fig.savefig('ROC curve Modal verb Shall')"
   ]
  },
  {
   "cell_type": "code",
   "execution_count": 18,
   "metadata": {},
   "outputs": [
    {
     "name": "stdout",
     "output_type": "stream",
     "text": [
      "AUC ROC 0.7490853522509258\n"
     ]
    }
   ],
   "source": [
    "print (\"AUC ROC\", metrics.roc_auc_score(y_test_roc, y_pred_roc))"
   ]
  },
  {
   "cell_type": "markdown",
   "metadata": {},
   "source": [
    "## Modal verbs: may, might, can, could, must, shall, should"
   ]
  },
  {
   "cell_type": "code",
   "execution_count": 19,
   "metadata": {},
   "outputs": [
    {
     "name": "stdout",
     "output_type": "stream",
     "text": [
      "precision = 0.9308790383170549\n",
      "recall = 0.8568464730290456\n",
      "f1 = 0.8923298523586605\n"
     ]
    }
   ],
   "source": [
    "TP = 0\n",
    "FP = 0\n",
    "TN = 0\n",
    "FN = 0\n",
    "\n",
    "for i in range(0, len(df2)):\n",
    "    may = df2['data'][i].find('may')\n",
    "    might = df2['data'][i].find('might')\n",
    "    can = df2['data'][i].find('can')\n",
    "    could = df2['data'][i].find('could')\n",
    "    must = df2['data'][i].find('must')\n",
    "    shall = df2['data'][i].find('shall')\n",
    "    should = df2['data'][i].find('should')\n",
    "    \n",
    "    if ((may != -1 or might != -1 or can != -1 or could != -1 or must != -1 or shall != -1 or should != -1)\n",
    "        and df2['class'][i] == 'Requirement'): TP += 1\n",
    "    elif ((may != -1 or might != -1 or can != -1 or could != -1 or must != -1 or shall != -1 or should != -1)\n",
    "        and df2['class'][i] != 'Requirement'): FP += 1\n",
    "    elif ((may == -1 and might == -1 and can == -1 and could == -1 and must == -1 and shall == -1 and should == -1)\n",
    "        and df2['class'][i] == 'Requirement'): FN += 1\n",
    "    elif ((may == -1 and might == -1 and can == -1 and could == -1 and must == -1 and shall == -1 and should == -1)\n",
    "        and df2['class'][i] != 'Requirement'): TN += 1\n",
    "        \n",
    "precision = TP / (TP + FP)\n",
    "recall = TP / (TP + FN)\n",
    "f1 = 2 * TP / (2 * TP + FP + FN)\n",
    "\n",
    "print ('precision =', precision)\n",
    "print ('recall =', recall)\n",
    "print ('f1 =', f1)"
   ]
  },
  {
   "cell_type": "code",
   "execution_count": 20,
   "metadata": {},
   "outputs": [],
   "source": [
    "# Compute ROC curve and ROC area for each class\n",
    "fpr = dict()\n",
    "tpr = dict()\n",
    "roc_auc = dict()\n",
    "\n",
    "length = len(df2)\n",
    "\n",
    "y_test_roc = np.zeros(length)\n",
    "y_pred_roc = np.zeros(length)\n",
    "\n",
    "for i in range (length):\n",
    "     if (df2['class'][i] == 'Requirement'): y_test_roc[i] = 1\n",
    "        \n",
    "for i in range (length):\n",
    "    may = df2['data'][i].find('may')\n",
    "    might = df2['data'][i].find('might')\n",
    "    can = df2['data'][i].find('can')\n",
    "    could = df2['data'][i].find('could')\n",
    "    must = df2['data'][i].find('must')\n",
    "    shall = df2['data'][i].find('shall')\n",
    "    should = df2['data'][i].find('should')\n",
    "    if (may != -1 or might != -1 or can != -1 or could != -1 or must != -1 or shall != -1 or should != -1):\n",
    "        y_pred_roc[i] = 1\n",
    "        \n",
    "fpr, tpr, thresholds = metrics.roc_curve(y_test_roc, y_pred_roc)"
   ]
  },
  {
   "cell_type": "code",
   "execution_count": 21,
   "metadata": {},
   "outputs": [
    {
     "data": {
      "image/png": "[encoded data removed]",
      "text/plain": [
       "<Figure size 432x288 with 1 Axes>"
      ]
     },
     "metadata": {
      "needs_background": "light"
     },
     "output_type": "display_data"
    }
   ],
   "source": [
    "fig, ax = plt.subplots()\n",
    "\n",
    "ax.plot(fpr, tpr)\n",
    "ax.plot([0, 1], [0, 1], 'k--')\n",
    "plt.xlim([0.0, 1.0])\n",
    "plt.ylim([0.0, 1.0])\n",
    "plt.xlabel('False Positive Rate')\n",
    "plt.ylabel('True Positive Rate')\n",
    "plt.title('ROC curve  Modal verbs: may, might, can, could, must, shall, should')\n",
    "plt.show()\n",
    "\n",
    "fig.savefig('ROC curve Modal verbs: may, might, can, could, must, shall, should')"
   ]
  },
  {
   "cell_type": "code",
   "execution_count": 22,
   "metadata": {},
   "outputs": [
    {
     "name": "stdout",
     "output_type": "stream",
     "text": [
      "AUC ROC 0.8224324531043847\n",
      "MSE 0.15904255319148936\n",
      "MAE 0.15904255319148936\n"
     ]
    }
   ],
   "source": [
    "print (\"AUC ROC\", metrics.roc_auc_score(y_test_roc, y_pred_roc))\n",
    "print (\"MSE\", metrics.mean_squared_error(y_test_roc, y_pred_roc))\n",
    "print (\"MAE\", metrics.mean_absolute_error(y_test_roc, y_pred_roc))"
   ]
  },
  {
   "cell_type": "markdown",
   "metadata": {},
   "source": [
    "## GaussianNB"
   ]
  },
  {
   "cell_type": "code",
   "execution_count": 23,
   "metadata": {},
   "outputs": [
    {
     "name": "stdout",
     "output_type": "stream",
     "text": [
      "              precision    recall  f1-score   support\n",
      "\n",
      "      Figure       0.20      0.20      0.20         5\n",
      "     Heading       0.82      0.46      0.59       253\n",
      " Information       0.15      0.30      0.20       169\n",
      " Requirement       0.88      0.82      0.85      1446\n",
      "       Title       0.02      0.14      0.04         7\n",
      "\n",
      "    accuracy                           0.72      1880\n",
      "   macro avg       0.41      0.38      0.37      1880\n",
      "weighted avg       0.80      0.72      0.75      1880\n",
      "\n",
      "beta = 0.5 fbeta_score = 0.7795890446349466\n"
     ]
    }
   ],
   "source": [
    "gnb = GaussianNB()\n",
    "gnb.fit(X_train.toarray(), y_train)\n",
    "y_pred = gnb.predict(X_test.toarray())\n",
    "\n",
    "print(metrics.classification_report(y_test, y_pred, target_names=le.classes_[np.unique(y_test)]))\n",
    "\n",
    "beta = 0.5\n",
    "print (\"beta =\", beta, 'fbeta_score =', metrics.fbeta_score(y_test, y_pred, beta = beta, average='weighted'))"
   ]
  },
  {
   "cell_type": "code",
   "execution_count": 24,
   "metadata": {},
   "outputs": [
    {
     "name": "stdout",
     "output_type": "stream",
     "text": [
      "Fitting 4 folds for each of 80 candidates, totalling 320 fits\n"
     ]
    },
    {
     "name": "stderr",
     "output_type": "stream",
     "text": [
      "[Parallel(n_jobs=-1)]: Using backend LokyBackend with 8 concurrent workers.\n",
      "[Parallel(n_jobs=-1)]: Done   2 tasks      | elapsed:    2.7s\n",
      "[Parallel(n_jobs=-1)]: Done  56 tasks      | elapsed:    4.8s\n",
      "[Parallel(n_jobs=-1)]: Done 146 tasks      | elapsed:    8.4s\n",
      "[Parallel(n_jobs=-1)]: Done 272 tasks      | elapsed:   13.7s\n",
      "[Parallel(n_jobs=-1)]: Done 320 out of 320 | elapsed:   15.6s finished\n"
     ]
    },
    {
     "data": {
      "text/plain": [
       "RandomizedSearchCV(cv=4, estimator=GaussianNB(), n_iter=80, n_jobs=-1,\n",
       "                   param_distributions={'var_smoothing': [1e-08,\n",
       "                                                          9.900000000000001e-09,\n",
       "                                                          9.8e-09,\n",
       "                                                          9.700000000000001e-09,\n",
       "                                                          9.6e-09, 9.5e-09,\n",
       "                                                          9.4e-09, 9.3e-09,\n",
       "                                                          9.2e-09, 9.1e-09,\n",
       "                                                          9e-09, 8.9e-09,\n",
       "                                                          8.8e-09, 8.7e-09,\n",
       "                                                          8.600000000000001e-09,\n",
       "                                                          8.5e-09, 8.4e-09,\n",
       "                                                          8.3e-09, 8.2e-09,\n",
       "                                                          8.1e-09, 8e-09,\n",
       "                                                          7.9e-09, 7.8e-09,\n",
       "                                                          7.7e-09, 7.6e-09,\n",
       "                                                          7.500000000000001e-09,\n",
       "                                                          7.4e-09, 7.3e-09,\n",
       "                                                          7.2e-09,\n",
       "                                                          7.100000000000001e-09, ...]},\n",
       "                   random_state=101, verbose=5)"
      ]
     },
     "execution_count": 24,
     "metadata": {},
     "output_type": "execute_result"
    }
   ],
   "source": [
    "random_search = {'var_smoothing': list(np.linspace(1e-8, 1e-10, 100, dtype = float))}\n",
    "\n",
    "clf = GaussianNB()\n",
    "model = RandomizedSearchCV(estimator = clf, param_distributions = random_search, n_iter = 80, \n",
    "                               cv = 4, verbose= 5, random_state= 101, n_jobs = -1)\n",
    "model.fit(X_train.toarray(),y_train)"
   ]
  },
  {
   "cell_type": "code",
   "execution_count": 25,
   "metadata": {},
   "outputs": [
    {
     "name": "stdout",
     "output_type": "stream",
     "text": [
      "[[   1    0    3    1    0]\n",
      " [   4  116   49   39   45]\n",
      " [   0    1   51  117    0]\n",
      " [   0   19  241 1184    2]\n",
      " [   0    5    1    0    1]] \n",
      "\n",
      "              precision    recall  f1-score   support\n",
      "\n",
      "      Figure       0.20      0.20      0.20         5\n",
      "     Heading       0.82      0.46      0.59       253\n",
      " Information       0.15      0.30      0.20       169\n",
      " Requirement       0.88      0.82      0.85      1446\n",
      "       Title       0.02      0.14      0.04         7\n",
      "\n",
      "    accuracy                           0.72      1880\n",
      "   macro avg       0.41      0.38      0.37      1880\n",
      "weighted avg       0.80      0.72      0.75      1880\n",
      "\n"
     ]
    }
   ],
   "source": [
    "predictionforest = model.best_estimator_.predict(X_test.toarray())\n",
    "print(metrics.confusion_matrix(y_test,predictionforest), '\\n')\n",
    "print(metrics.classification_report(y_test, predictionforest, target_names=le.classes_[np.unique(y_test)]))\n",
    "acc3 = metrics.accuracy_score(y_test,predictionforest)"
   ]
  },
  {
   "cell_type": "code",
   "execution_count": 26,
   "metadata": {},
   "outputs": [],
   "source": [
    "# Compute ROC curve and ROC area for each class\n",
    "fpr = dict()\n",
    "tpr = dict()\n",
    "roc_auc = dict()\n",
    "\n",
    "length = len(y_test)\n",
    "\n",
    "y_test_roc = np.zeros(length)\n",
    "y_pred_roc = np.zeros(length)\n",
    "\n",
    "for i in range (length):\n",
    "    if(y_test[i] == 3): y_test_roc[i] = 1\n",
    "        \n",
    "for i in range (length):\n",
    "    if(y_pred[i] == 3): y_pred_roc[i] = 1\n",
    "        \n",
    "fpr, tpr, thresholds = metrics.roc_curve(y_test_roc, y_pred_roc)"
   ]
  },
  {
   "cell_type": "code",
   "execution_count": 27,
   "metadata": {},
   "outputs": [
    {
     "data": {
      "image/png": "[encoded data removed]",
      "text/plain": [
       "<Figure size 432x288 with 1 Axes>"
      ]
     },
     "metadata": {
      "needs_background": "light"
     },
     "output_type": "display_data"
    }
   ],
   "source": [
    "fig, ax = plt.subplots()\n",
    "\n",
    "ax.plot(fpr, tpr)\n",
    "ax.plot([0, 1], [0, 1], 'k--')\n",
    "plt.xlim([0.0, 1.0])\n",
    "plt.ylim([0.0, 1.0])\n",
    "plt.xlabel('False Positive Rate')\n",
    "plt.ylabel('True Positive Rate')\n",
    "plt.title('ROC curve GaussianNB')\n",
    "plt.show()\n",
    "\n",
    "fig.savefig('ROC curve GaussianNB')"
   ]
  },
  {
   "cell_type": "code",
   "execution_count": 28,
   "metadata": {},
   "outputs": [
    {
     "name": "stdout",
     "output_type": "stream",
     "text": [
      "AUC ROC 0.7285296798414186\n",
      "MSE 0.5962765957446808\n",
      "MAE 0.3675531914893617\n"
     ]
    }
   ],
   "source": [
    "print (\"AUC ROC\", metrics.roc_auc_score(y_test_roc, y_pred_roc))\n",
    "print (\"MSE\", metrics.mean_squared_error(y_test, y_pred))\n",
    "print (\"MAE\", metrics.mean_absolute_error(y_test, y_pred))"
   ]
  },
  {
   "cell_type": "markdown",
   "metadata": {},
   "source": [
    "## MultinomialNB"
   ]
  },
  {
   "cell_type": "code",
   "execution_count": 29,
   "metadata": {},
   "outputs": [
    {
     "name": "stdout",
     "output_type": "stream",
     "text": [
      "              precision    recall  f1-score   support\n",
      "\n",
      "      Figure       0.00      0.00      0.00         5\n",
      "     Heading       1.00      0.12      0.22       253\n",
      " Information       0.00      0.00      0.00       169\n",
      " Requirement       0.78      1.00      0.88      1446\n",
      "       Title       0.00      0.00      0.00         7\n",
      "\n",
      "    accuracy                           0.79      1880\n",
      "   macro avg       0.36      0.22      0.22      1880\n",
      "weighted avg       0.74      0.79      0.70      1880\n",
      "\n",
      "beta = 0.5 fbeta_score = 0.6842531158750496\n"
     ]
    },
    {
     "name": "stderr",
     "output_type": "stream",
     "text": [
      "/Users/marychikunova/opt/anaconda3/lib/python3.8/site-packages/sklearn/metrics/_classification.py:1221: UndefinedMetricWarning: Precision and F-score are ill-defined and being set to 0.0 in labels with no predicted samples. Use `zero_division` parameter to control this behavior.\n",
      "  _warn_prf(average, modifier, msg_start, len(result))\n"
     ]
    }
   ],
   "source": [
    "clf = MultinomialNB()\n",
    "clf.fit(X_train, y_train)\n",
    "y_pred = clf.predict(X_test)\n",
    "\n",
    "print(metrics.classification_report(y_test, y_pred, target_names=le.classes_[np.unique(y_test)]))\n",
    "\n",
    "beta = 0.5\n",
    "print (\"beta =\", beta, 'fbeta_score =', metrics.fbeta_score(y_test, y_pred, beta = 0.5, average='weighted'))"
   ]
  },
  {
   "cell_type": "code",
   "execution_count": 30,
   "metadata": {},
   "outputs": [
    {
     "name": "stdout",
     "output_type": "stream",
     "text": [
      "Fitting 4 folds for each of 24 candidates, totalling 96 fits\n"
     ]
    },
    {
     "name": "stderr",
     "output_type": "stream",
     "text": [
      "/Users/marychikunova/opt/anaconda3/lib/python3.8/site-packages/sklearn/model_selection/_search.py:278: UserWarning: The total space of parameters 24 is smaller than n_iter=80. Running 24 iterations. For exhaustive searches, use GridSearchCV.\n",
      "  warnings.warn(\n",
      "[Parallel(n_jobs=-1)]: Using backend LokyBackend with 8 concurrent workers.\n",
      "[Parallel(n_jobs=-1)]: Done   2 tasks      | elapsed:    0.0s\n",
      "[Parallel(n_jobs=-1)]: Done  96 out of  96 | elapsed:    0.3s finished\n"
     ]
    },
    {
     "data": {
      "text/plain": [
       "RandomizedSearchCV(cv=4, estimator=MultinomialNB(), n_iter=80, n_jobs=-1,\n",
       "                   param_distributions={'alpha': [0.0, 0.1, 0.2,\n",
       "                                                  0.30000000000000004, 0.4, 0.5,\n",
       "                                                  0.6000000000000001,\n",
       "                                                  0.7000000000000001, 0.8, 0.9,\n",
       "                                                  1.0, None],\n",
       "                                        'fit_prior': [True, False]},\n",
       "                   random_state=101, verbose=5)"
      ]
     },
     "execution_count": 30,
     "metadata": {},
     "output_type": "execute_result"
    }
   ],
   "source": [
    "random_search = {'alpha': list(np.linspace(0.0, 1.0, 11, dtype = float)) + [None],\n",
    "               'fit_prior': [True, False]}\n",
    "\n",
    "clf = MultinomialNB()\n",
    "model = RandomizedSearchCV(estimator = clf, param_distributions = random_search, n_iter = 80, \n",
    "                               cv = 4, verbose= 5, random_state= 101, n_jobs = -1)\n",
    "model.fit(X_train,y_train)"
   ]
  },
  {
   "cell_type": "code",
   "execution_count": 31,
   "metadata": {},
   "outputs": [
    {
     "name": "stdout",
     "output_type": "stream",
     "text": [
      "[[   0    0    0    5    0]\n",
      " [   0   31    1  221    0]\n",
      " [   0    0    0  169    0]\n",
      " [   0    1    0 1445    0]\n",
      " [   0    0    0    7    0]] \n",
      "\n",
      "              precision    recall  f1-score   support\n",
      "\n",
      "      Figure       0.00      0.00      0.00         5\n",
      "     Heading       0.97      0.12      0.22       253\n",
      " Information       0.00      0.00      0.00       169\n",
      " Requirement       0.78      1.00      0.88      1446\n",
      "       Title       0.00      0.00      0.00         7\n",
      "\n",
      "    accuracy                           0.79      1880\n",
      "   macro avg       0.35      0.22      0.22      1880\n",
      "weighted avg       0.73      0.79      0.70      1880\n",
      "\n"
     ]
    },
    {
     "name": "stderr",
     "output_type": "stream",
     "text": [
      "/Users/marychikunova/opt/anaconda3/lib/python3.8/site-packages/sklearn/metrics/_classification.py:1221: UndefinedMetricWarning: Precision and F-score are ill-defined and being set to 0.0 in labels with no predicted samples. Use `zero_division` parameter to control this behavior.\n",
      "  _warn_prf(average, modifier, msg_start, len(result))\n"
     ]
    }
   ],
   "source": [
    "predictionforest = model.best_estimator_.predict(X_test)\n",
    "print(metrics.confusion_matrix(y_test,predictionforest), '\\n')\n",
    "print(metrics.classification_report(y_test, predictionforest, target_names=le.classes_[np.unique(y_test)]))\n",
    "acc3 = metrics.accuracy_score(y_test,predictionforest)"
   ]
  },
  {
   "cell_type": "code",
   "execution_count": 32,
   "metadata": {},
   "outputs": [],
   "source": [
    "# Compute ROC curve and ROC area for each class\n",
    "fpr = dict()\n",
    "tpr = dict()\n",
    "roc_auc = dict()\n",
    "\n",
    "length = len(y_test)\n",
    "\n",
    "y_test_roc = np.zeros(length)\n",
    "y_pred_roc = np.zeros(length)\n",
    "\n",
    "for i in range (length):\n",
    "    if(y_test[i] == 3): y_test_roc[i] = 1\n",
    "        \n",
    "for i in range (length):\n",
    "    if(y_pred[i] == 3): y_pred_roc[i] = 1\n",
    "        \n",
    "fpr, tpr, thresholds = metrics.roc_curve(y_test_roc, y_pred_roc)"
   ]
  },
  {
   "cell_type": "code",
   "execution_count": 33,
   "metadata": {},
   "outputs": [
    {
     "data": {
      "image/png": "[encoded data removed]",
      "text/plain": [
       "<Figure size 432x288 with 1 Axes>"
      ]
     },
     "metadata": {
      "needs_background": "light"
     },
     "output_type": "display_data"
    }
   ],
   "source": [
    "fig, ax = plt.subplots()\n",
    "\n",
    "ax.plot(fpr, tpr)\n",
    "ax.plot([0, 1], [0, 1], 'k--')\n",
    "plt.xlim([0.0, 1.0])\n",
    "plt.ylim([0.0, 1.0])\n",
    "plt.xlabel('False Positive Rate')\n",
    "plt.ylabel('True Positive Rate')\n",
    "plt.title('ROC curve MultinomialNB')\n",
    "plt.show()\n",
    "\n",
    "fig.savefig('ROC curve MultinomialNB')"
   ]
  },
  {
   "cell_type": "code",
   "execution_count": 34,
   "metadata": {},
   "outputs": [
    {
     "name": "stdout",
     "output_type": "stream",
     "text": [
      "AUC ROC 0.5357142857142857\n",
      "MSE 0.5898936170212766\n",
      "MAE 0.3377659574468085\n"
     ]
    }
   ],
   "source": [
    "print (\"AUC ROC\", metrics.roc_auc_score(y_test_roc, y_pred_roc))\n",
    "print (\"MSE\", metrics.mean_squared_error(y_test, y_pred))\n",
    "print (\"MAE\", metrics.mean_absolute_error(y_test, y_pred))"
   ]
  },
  {
   "cell_type": "markdown",
   "metadata": {},
   "source": [
    "## BernoulliNB"
   ]
  },
  {
   "cell_type": "code",
   "execution_count": 35,
   "metadata": {},
   "outputs": [
    {
     "name": "stdout",
     "output_type": "stream",
     "text": [
      "              precision    recall  f1-score   support\n",
      "\n",
      "      Figure       0.00      0.00      0.00         5\n",
      "     Heading       0.76      0.94      0.84       253\n",
      " Information       0.51      0.17      0.26       169\n",
      " Requirement       0.90      0.94      0.92      1446\n",
      "       Title       0.00      0.00      0.00         7\n",
      "\n",
      "    accuracy                           0.86      1880\n",
      "   macro avg       0.43      0.41      0.40      1880\n",
      "weighted avg       0.84      0.86      0.84      1880\n",
      "\n",
      "beta = 0.5 fbeta_score = 0.8368288297119147\n"
     ]
    },
    {
     "name": "stderr",
     "output_type": "stream",
     "text": [
      "/Users/marychikunova/opt/anaconda3/lib/python3.8/site-packages/sklearn/metrics/_classification.py:1221: UndefinedMetricWarning: Precision and F-score are ill-defined and being set to 0.0 in labels with no predicted samples. Use `zero_division` parameter to control this behavior.\n",
      "  _warn_prf(average, modifier, msg_start, len(result))\n"
     ]
    }
   ],
   "source": [
    "clf = BernoulliNB()\n",
    "clf.fit(X_train, y_train)\n",
    "y_pred = clf.predict(X_test)\n",
    "\n",
    "print(metrics.classification_report(y_test, y_pred, target_names=le.classes_[np.unique(y_test)]))#le.classes_[np.unique(predicted)]\n",
    "\n",
    "beta = 0.5\n",
    "print (\"beta =\", beta, 'fbeta_score =', metrics.fbeta_score(y_test, y_pred, beta = 0.5, average='weighted'))"
   ]
  },
  {
   "cell_type": "code",
   "execution_count": 36,
   "metadata": {},
   "outputs": [
    {
     "name": "stdout",
     "output_type": "stream",
     "text": [
      "Fitting 4 folds for each of 80 candidates, totalling 320 fits\n"
     ]
    },
    {
     "name": "stderr",
     "output_type": "stream",
     "text": [
      "[Parallel(n_jobs=-1)]: Using backend LokyBackend with 8 concurrent workers.\n",
      "[Parallel(n_jobs=-1)]: Done   2 tasks      | elapsed:    0.0s\n",
      "[Parallel(n_jobs=-1)]: Done 176 tasks      | elapsed:    0.2s\n",
      "[Parallel(n_jobs=-1)]: Done 320 out of 320 | elapsed:    0.4s finished\n"
     ]
    },
    {
     "data": {
      "text/plain": [
       "RandomizedSearchCV(cv=4, estimator=BernoulliNB(), n_iter=80, n_jobs=-1,\n",
       "                   param_distributions={'alpha': [0.0, 0.1, 0.2,\n",
       "                                                  0.30000000000000004, 0.4, 0.5,\n",
       "                                                  0.6000000000000001,\n",
       "                                                  0.7000000000000001, 0.8, 0.9,\n",
       "                                                  1.0, None],\n",
       "                                        'binarize': [0.0, 0.1, 0.2,\n",
       "                                                     0.30000000000000004, 0.4,\n",
       "                                                     0.5, 0.6000000000000001,\n",
       "                                                     0.7000000000000001, 0.8,\n",
       "                                                     0.9, 1.0, None],\n",
       "                                        'fit_prior': [True, False]},\n",
       "                   random_state=101, verbose=5)"
      ]
     },
     "execution_count": 36,
     "metadata": {},
     "output_type": "execute_result"
    }
   ],
   "source": [
    "from sklearn.model_selection import RandomizedSearchCV\n",
    "from sklearn.model_selection import cross_val_score\n",
    "\n",
    "random_search = {'alpha': list(np.linspace(0.0, 1.0, 11, dtype = float)) + [None],\n",
    "               'binarize': list(np.linspace(0.0, 1.0, 11, dtype = float)) + [None],\n",
    "               'fit_prior': [True, False]}\n",
    "\n",
    "clf = BernoulliNB()\n",
    "model = RandomizedSearchCV(estimator = clf, param_distributions = random_search, n_iter = 80, \n",
    "                               cv = 4, verbose= 5, random_state= 101, n_jobs = -1)\n",
    "model.fit(X_train,y_train)"
   ]
  },
  {
   "cell_type": "code",
   "execution_count": 37,
   "metadata": {},
   "outputs": [
    {
     "name": "stdout",
     "output_type": "stream",
     "text": [
      "[[   0    2    0    3    0]\n",
      " [   0  238    1   14    0]\n",
      " [   0    7   29  133    0]\n",
      " [   0   61   27 1357    1]\n",
      " [   0    6    0    1    0]] \n",
      "\n",
      "              precision    recall  f1-score   support\n",
      "\n",
      "      Figure       0.00      0.00      0.00         5\n",
      "     Heading       0.76      0.94      0.84       253\n",
      " Information       0.51      0.17      0.26       169\n",
      " Requirement       0.90      0.94      0.92      1446\n",
      "       Title       0.00      0.00      0.00         7\n",
      "\n",
      "    accuracy                           0.86      1880\n",
      "   macro avg       0.43      0.41      0.40      1880\n",
      "weighted avg       0.84      0.86      0.84      1880\n",
      "\n"
     ]
    },
    {
     "name": "stderr",
     "output_type": "stream",
     "text": [
      "/Users/marychikunova/opt/anaconda3/lib/python3.8/site-packages/sklearn/metrics/_classification.py:1221: UndefinedMetricWarning: Precision and F-score are ill-defined and being set to 0.0 in labels with no predicted samples. Use `zero_division` parameter to control this behavior.\n",
      "  _warn_prf(average, modifier, msg_start, len(result))\n"
     ]
    }
   ],
   "source": [
    "predictionforest = model.best_estimator_.predict(X_test)\n",
    "print(metrics.confusion_matrix(y_test,predictionforest), '\\n')\n",
    "print(metrics.classification_report(y_test, predictionforest, target_names=le.classes_[np.unique(y_test)]))\n",
    "acc3 = metrics.accuracy_score(y_test,predictionforest)"
   ]
  },
  {
   "cell_type": "code",
   "execution_count": 38,
   "metadata": {},
   "outputs": [],
   "source": [
    "# Compute ROC curve and ROC area for each class\n",
    "fpr = dict()\n",
    "tpr = dict()\n",
    "roc_auc = dict()\n",
    "\n",
    "length = len(y_test)\n",
    "\n",
    "y_test_roc = np.zeros(length)\n",
    "y_pred_roc = np.zeros(length)\n",
    "\n",
    "for i in range (length):\n",
    "    if(y_test[i] == 3): y_test_roc[i] = 1\n",
    "        \n",
    "for i in range (length):\n",
    "    if(y_pred[i] == 3): y_pred_roc[i] = 1\n",
    "        \n",
    "fpr, tpr, thresholds = metrics.roc_curve(y_test_roc, y_pred_roc)"
   ]
  },
  {
   "cell_type": "code",
   "execution_count": 39,
   "metadata": {},
   "outputs": [
    {
     "data": {
      "text/plain": [
       "array([0.        , 0.34792627, 1.        ])"
      ]
     },
     "execution_count": 39,
     "metadata": {},
     "output_type": "execute_result"
    }
   ],
   "source": [
    "fpr"
   ]
  },
  {
   "cell_type": "code",
   "execution_count": 40,
   "metadata": {},
   "outputs": [
    {
     "data": {
      "text/plain": [
       "array([0.       , 0.9384509, 1.       ])"
      ]
     },
     "execution_count": 40,
     "metadata": {},
     "output_type": "execute_result"
    }
   ],
   "source": [
    "tpr"
   ]
  },
  {
   "cell_type": "code",
   "execution_count": 41,
   "metadata": {},
   "outputs": [
    {
     "data": {
      "image/png": "[encoded data removed]",
      "text/plain": [
       "<Figure size 432x288 with 1 Axes>"
      ]
     },
     "metadata": {
      "needs_background": "light"
     },
     "output_type": "display_data"
    }
   ],
   "source": [
    "fig, ax = plt.subplots()\n",
    "\n",
    "ax.plot(fpr, tpr, 'b--')\n",
    "ax.plot([0, 1], [0, 1], 'k--')\n",
    "plt.xlim([0.0, 1.0])\n",
    "plt.ylim([0.0, 1.0])\n",
    "plt.xlabel('False Positive Rate')\n",
    "plt.ylabel('True Positive Rate')\n",
    "plt.title('ROC curve BernoulliNB')\n",
    "plt.scatter(fpr, tpr)\n",
    "plt.show()\n",
    "\n",
    "fig.savefig('ROC curve BernoulliNB')"
   ]
  },
  {
   "cell_type": "code",
   "execution_count": 45,
   "metadata": {},
   "outputs": [
    {
     "name": "stdout",
     "output_type": "stream",
     "text": [
      "AUC ROC 0.7952623158753529\n",
      "MSE 0.29414893617021276\n",
      "MAE 0.18563829787234043\n"
     ]
    }
   ],
   "source": [
    "print (\"AUC ROC\", metrics.roc_auc_score(y_test_roc, y_pred_roc))\n",
    "print (\"MSE\", metrics.mean_squared_error(y_test, y_pred))\n",
    "print (\"MAE\", metrics.mean_absolute_error(y_test, y_pred))"
   ]
  },
  {
   "cell_type": "markdown",
   "metadata": {},
   "source": [
    "## XGBClassifier"
   ]
  },
  {
   "cell_type": "code",
   "execution_count": 46,
   "metadata": {},
   "outputs": [
    {
     "name": "stderr",
     "output_type": "stream",
     "text": [
      "/Users/marychikunova/opt/anaconda3/lib/python3.8/site-packages/xgboost/sklearn.py:888: UserWarning: The use of label encoder in XGBClassifier is deprecated and will be removed in a future release. To remove this warning, do the following: 1) Pass option use_label_encoder=False when constructing XGBClassifier object; and 2) Encode your labels (y) as integers starting with 0, i.e. 0, 1, 2, ..., [num_class - 1].\n",
      "  warnings.warn(label_encoder_deprecation_msg, UserWarning)\n"
     ]
    },
    {
     "name": "stdout",
     "output_type": "stream",
     "text": [
      "[15:41:26] WARNING: /Users/travis/build/dmlc/xgboost/src/learner.cc:1061: Starting in XGBoost 1.3.0, the default evaluation metric used with the objective 'multi:softprob' was changed from 'merror' to 'mlogloss'. Explicitly set eval_metric if you'd like to restore the old behavior.\n",
      "              precision    recall  f1-score   support\n",
      "\n",
      "      Figure       1.00      1.00      1.00         5\n",
      "     Heading       0.90      0.87      0.88       253\n",
      " Information       0.67      0.44      0.53       169\n",
      " Requirement       0.92      0.96      0.94      1446\n",
      "       Title       0.00      0.00      0.00         7\n",
      "\n",
      "    accuracy                           0.90      1880\n",
      "   macro avg       0.70      0.65      0.67      1880\n",
      "weighted avg       0.89      0.90      0.89      1880\n",
      "\n"
     ]
    }
   ],
   "source": [
    "clf = XGBClassifier().fit(X_train, y_train)\n",
    "y_pred = clf.predict(X_test)\n",
    "print(metrics.classification_report(y_test, y_pred, target_names=le.classes_[np.unique(y_test)]))"
   ]
  },
  {
   "cell_type": "code",
   "execution_count": 47,
   "metadata": {},
   "outputs": [],
   "source": [
    "# Compute ROC curve and ROC area for each class\n",
    "#fpr = dict()\n",
    "#tpr = dict()\n",
    "roc_auc = dict()\n",
    "\n",
    "length = len(y_test)\n",
    "\n",
    "y_test_roc = np.zeros(length)\n",
    "y_pred_roc = np.zeros(length)\n",
    "\n",
    "for i in range (length):\n",
    "    if(y_test[i] == 3): y_test_roc[i] = 1\n",
    "        \n",
    "for i in range (length):\n",
    "    if(y_pred[i] == 3): y_pred_roc[i] = 1\n",
    "        \n",
    "fpr, tpr, thresholds = metrics.roc_curve(y_test_roc, y_pred_roc)"
   ]
  },
  {
   "cell_type": "code",
   "execution_count": 48,
   "metadata": {},
   "outputs": [
    {
     "data": {
      "text/plain": [
       "0.8414663683703973"
      ]
     },
     "execution_count": 48,
     "metadata": {},
     "output_type": "execute_result"
    }
   ],
   "source": [
    "roc_auc = metrics.auc(fpr, tpr)\n",
    "roc_auc"
   ]
  },
  {
   "cell_type": "code",
   "execution_count": 49,
   "metadata": {},
   "outputs": [
    {
     "data": {
      "text/plain": [
       "array([0.        , 0.28110599, 1.        ])"
      ]
     },
     "execution_count": 49,
     "metadata": {},
     "output_type": "execute_result"
    }
   ],
   "source": [
    "fpr"
   ]
  },
  {
   "cell_type": "code",
   "execution_count": 50,
   "metadata": {},
   "outputs": [
    {
     "data": {
      "text/plain": [
       "array([0.        , 0.96403873, 1.        ])"
      ]
     },
     "execution_count": 50,
     "metadata": {},
     "output_type": "execute_result"
    }
   ],
   "source": [
    "tpr"
   ]
  },
  {
   "cell_type": "code",
   "execution_count": 51,
   "metadata": {},
   "outputs": [
    {
     "data": {
      "text/plain": [
       "array([2., 1., 0.])"
      ]
     },
     "execution_count": 51,
     "metadata": {},
     "output_type": "execute_result"
    }
   ],
   "source": [
    "thresholds"
   ]
  },
  {
   "cell_type": "code",
   "execution_count": 52,
   "metadata": {},
   "outputs": [],
   "source": [
    "df = pd.DataFrame(dict(fpr = fpr, tpr = tpr))"
   ]
  },
  {
   "cell_type": "code",
   "execution_count": 53,
   "metadata": {},
   "outputs": [
    {
     "data": {
      "text/html": [
       "<div>\n",
       "<style scoped>\n",
       "    .dataframe tbody tr th:only-of-type {\n",
       "        vertical-align: middle;\n",
       "    }\n",
       "\n",
       "    .dataframe tbody tr th {\n",
       "        vertical-align: top;\n",
       "    }\n",
       "\n",
       "    .dataframe thead th {\n",
       "        text-align: right;\n",
       "    }\n",
       "</style>\n",
       "<table border=\"1\" class=\"dataframe\">\n",
       "  <thead>\n",
       "    <tr style=\"text-align: right;\">\n",
       "      <th></th>\n",
       "      <th>fpr</th>\n",
       "      <th>tpr</th>\n",
       "    </tr>\n",
       "  </thead>\n",
       "  <tbody>\n",
       "    <tr>\n",
       "      <th>0</th>\n",
       "      <td>0.000000</td>\n",
       "      <td>0.000000</td>\n",
       "    </tr>\n",
       "    <tr>\n",
       "      <th>1</th>\n",
       "      <td>0.281106</td>\n",
       "      <td>0.964039</td>\n",
       "    </tr>\n",
       "    <tr>\n",
       "      <th>2</th>\n",
       "      <td>1.000000</td>\n",
       "      <td>1.000000</td>\n",
       "    </tr>\n",
       "  </tbody>\n",
       "</table>\n",
       "</div>"
      ],
      "text/plain": [
       "        fpr       tpr\n",
       "0  0.000000  0.000000\n",
       "1  0.281106  0.964039\n",
       "2  1.000000  1.000000"
      ]
     },
     "execution_count": 53,
     "metadata": {},
     "output_type": "execute_result"
    }
   ],
   "source": [
    "df"
   ]
  },
  {
   "cell_type": "code",
   "execution_count": 55,
   "metadata": {},
   "outputs": [],
   "source": [
    "from plotnine import ggplot, geom_point, aes, stat_smooth, facet_wrap"
   ]
  },
  {
   "cell_type": "code",
   "execution_count": 56,
   "metadata": {},
   "outputs": [
    {
     "data": {
      "image/png": "[encoded data removed]",
      "text/plain": [
       "<Figure size 640x480 with 1 Axes>"
      ]
     },
     "metadata": {},
     "output_type": "display_data"
    },
    {
     "data": {
      "text/plain": [
       "<ggplot: (8765667806190)>"
      ]
     },
     "execution_count": 56,
     "metadata": {},
     "output_type": "execute_result"
    }
   ],
   "source": [
    "(ggplot(df, aes('fpr','tpr'))\n",
    " + geom_point())"
   ]
  },
  {
   "cell_type": "code",
   "execution_count": 57,
   "metadata": {},
   "outputs": [
    {
     "data": {
      "text/plain": [
       "array([1., 1., 1., ..., 0., 1., 1.])"
      ]
     },
     "execution_count": 57,
     "metadata": {},
     "output_type": "execute_result"
    }
   ],
   "source": [
    "y_test_roc"
   ]
  },
  {
   "cell_type": "code",
   "execution_count": 58,
   "metadata": {},
   "outputs": [
    {
     "data": {
      "text/plain": [
       "array([1., 1., 1., ..., 0., 1., 0.])"
      ]
     },
     "execution_count": 58,
     "metadata": {},
     "output_type": "execute_result"
    }
   ],
   "source": [
    "y_pred_roc"
   ]
  },
  {
   "cell_type": "code",
   "execution_count": 59,
   "metadata": {},
   "outputs": [
    {
     "data": {
      "image/png": "[encoded data removed]",
      "text/plain": [
       "<Figure size 432x288 with 1 Axes>"
      ]
     },
     "metadata": {
      "needs_background": "light"
     },
     "output_type": "display_data"
    }
   ],
   "source": [
    "fig, ax = plt.subplots()\n",
    "\n",
    "ax.plot(fpr, tpr)\n",
    "ax.plot([0, 1], [0, 1], 'k--')\n",
    "plt.xlim([0.0, 1.0])\n",
    "plt.ylim([0.0, 1.0])\n",
    "plt.xlabel('False Positive Rate')\n",
    "plt.ylabel('True Positive Rate')\n",
    "plt.title('ROC curve XGBClassifier')\n",
    "plt.show()\n",
    "\n",
    "fig.savefig('ROC curve XGBClassifier')"
   ]
  },
  {
   "cell_type": "code",
   "execution_count": 60,
   "metadata": {},
   "outputs": [
    {
     "name": "stdout",
     "output_type": "stream",
     "text": [
      "AUC ROC 0.8414663683703973\n",
      "MSE 0.21436170212765956\n",
      "MAE 0.1345744680851064\n"
     ]
    }
   ],
   "source": [
    "print (\"AUC ROC\", metrics.roc_auc_score(y_test_roc, y_pred_roc))\n",
    "print (\"MSE\", metrics.mean_squared_error(y_test, y_pred))\n",
    "print (\"MAE\", metrics.mean_absolute_error(y_test, y_pred))"
   ]
  },
  {
   "cell_type": "code",
   "execution_count": 61,
   "metadata": {},
   "outputs": [
    {
     "name": "stdout",
     "output_type": "stream",
     "text": [
      "confusion matrix [[ 312  122]\n",
      " [  52 1394]]\n",
      "tn =  312 fp =  122 fn =  52 tp =  1394\n"
     ]
    }
   ],
   "source": [
    "tn, fp, fn, tp = metrics.confusion_matrix(y_test_roc, y_pred_roc).ravel()\n",
    "print (\"confusion matrix\", metrics.confusion_matrix(y_test_roc, y_pred_roc))\n",
    "print (\"tn = \", tn, \"fp = \", fp, \"fn = \", fn, \"tp = \", tp)"
   ]
  },
  {
   "cell_type": "code",
   "execution_count": 62,
   "metadata": {},
   "outputs": [
    {
     "name": "stdout",
     "output_type": "stream",
     "text": [
      "Fitting 4 folds for each of 80 candidates, totalling 320 fits\n"
     ]
    },
    {
     "name": "stderr",
     "output_type": "stream",
     "text": [
      "[Parallel(n_jobs=-1)]: Using backend LokyBackend with 8 concurrent workers.\n",
      "[Parallel(n_jobs=-1)]: Done   2 tasks      | elapsed:    1.6s\n",
      "[Parallel(n_jobs=-1)]: Done  56 tasks      | elapsed:    7.9s\n",
      "[Parallel(n_jobs=-1)]: Done 146 tasks      | elapsed:   27.4s\n",
      "[Parallel(n_jobs=-1)]: Done 272 tasks      | elapsed:   44.6s\n",
      "[Parallel(n_jobs=-1)]: Done 320 out of 320 | elapsed:   53.2s finished\n",
      "/Users/marychikunova/opt/anaconda3/lib/python3.8/site-packages/xgboost/sklearn.py:888: UserWarning: The use of label encoder in XGBClassifier is deprecated and will be removed in a future release. To remove this warning, do the following: 1) Pass option use_label_encoder=False when constructing XGBClassifier object; and 2) Encode your labels (y) as integers starting with 0, i.e. 0, 1, 2, ..., [num_class - 1].\n"
     ]
    },
    {
     "name": "stdout",
     "output_type": "stream",
     "text": [
      "[15:44:02] WARNING: /Users/travis/build/dmlc/xgboost/src/learner.cc:1061: Starting in XGBoost 1.3.0, the default evaluation metric used with the objective 'multi:softprob' was changed from 'merror' to 'mlogloss'. Explicitly set eval_metric if you'd like to restore the old behavior.\n"
     ]
    },
    {
     "data": {
      "text/plain": [
       "RandomizedSearchCV(cv=4,\n",
       "                   estimator=XGBClassifier(base_score=None, booster=None,\n",
       "                                           colsample_bylevel=None,\n",
       "                                           colsample_bynode=None,\n",
       "                                           colsample_bytree=None, gamma=None,\n",
       "                                           gpu_id=None, importance_type='gain',\n",
       "                                           interaction_constraints=None,\n",
       "                                           learning_rate=None,\n",
       "                                           max_delta_step=None, max_depth=None,\n",
       "                                           min_child_weight=None, missing=nan,\n",
       "                                           monotone_constraints=None,\n",
       "                                           n_estimators=100,...\n",
       "                                        'min_child_weight': <scipy.stats._distn_infrastructure.rv_frozen object at 0x7f8ea8686ee0>,\n",
       "                                        'n_estimators': <scipy.stats._distn_infrastructure.rv_frozen object at 0x7f8ea86a0190>,\n",
       "                                        'reg_alpha': <scipy.stats._distn_infrastructure.rv_frozen object at 0x7f8ea8686ee0>,\n",
       "                                        'subsample': <scipy.stats._distn_infrastructure.rv_frozen object at 0x7f8ea8686160>},\n",
       "                   random_state=101, verbose=5)"
      ]
     },
     "execution_count": 62,
     "metadata": {},
     "output_type": "execute_result"
    }
   ],
   "source": [
    "import scipy.stats as st\n",
    "\n",
    "random_search = {'alpha': list(np.linspace(0.0, 1.0, 11, dtype = float)) + [None],\n",
    "               'fit_prior': [True, False],\n",
    "                'norm': [False, True]}\n",
    "\n",
    "one_to_left = st.beta(10, 1)  \n",
    "from_zero_positive = st.expon(0, 50)\n",
    "\n",
    "random_search = {  \n",
    "    \"n_estimators\": st.randint(3, 40),\n",
    "    \"max_depth\": st.randint(3, 40),\n",
    "    \"learning_rate\": st.uniform(0.05, 0.4),\n",
    "    \"colsample_bytree\": one_to_left,\n",
    "    \"subsample\": one_to_left,\n",
    "    \"gamma\": st.uniform(0, 10),\n",
    "    'reg_alpha': from_zero_positive,\n",
    "    \"min_child_weight\": from_zero_positive,\n",
    "}\n",
    "\n",
    "\n",
    "clf = XGBClassifier()\n",
    "model = RandomizedSearchCV(estimator = clf, param_distributions = random_search, n_iter = 80, \n",
    "                               cv = 4, verbose= 5, random_state= 101, n_jobs = -1)\n",
    "model.fit(X_train,y_train)"
   ]
  },
  {
   "cell_type": "code",
   "execution_count": 63,
   "metadata": {},
   "outputs": [
    {
     "name": "stdout",
     "output_type": "stream",
     "text": [
      "[15:44:08] WARNING: /Users/travis/build/dmlc/xgboost/src/learner.cc:1061: Starting in XGBoost 1.3.0, the default evaluation metric used with the objective 'multi:softprob' was changed from 'merror' to 'mlogloss'. Explicitly set eval_metric if you'd like to restore the old behavior.\n",
      "              precision    recall  f1-score   support\n",
      "\n",
      "      Figure       1.00      1.00      1.00         5\n",
      "     Heading       0.90      0.87      0.88       253\n",
      " Information       0.67      0.44      0.53       169\n",
      " Requirement       0.92      0.96      0.94      1446\n",
      "       Title       0.00      0.00      0.00         7\n",
      "\n",
      "    accuracy                           0.90      1880\n",
      "   macro avg       0.70      0.65      0.67      1880\n",
      "weighted avg       0.89      0.90      0.89      1880\n",
      "\n"
     ]
    }
   ],
   "source": [
    "clf = XGBClassifier().fit(X_train, y_train)\n",
    "y_pred = clf.predict(X_test)\n",
    "print(metrics.classification_report(y_test, y_pred, target_names=le.classes_[np.unique(y_test)]))"
   ]
  },
  {
   "cell_type": "code",
   "execution_count": 64,
   "metadata": {},
   "outputs": [
    {
     "data": {
      "text/plain": [
       "{'colsample_bytree': 0.9531471559535791,\n",
       " 'gamma': 1.7919527578742689,\n",
       " 'learning_rate': 0.15803569462073455,\n",
       " 'max_depth': 20,\n",
       " 'min_child_weight': 59.38504505496335,\n",
       " 'n_estimators': 33,\n",
       " 'reg_alpha': 29.89561177661934,\n",
       " 'subsample': 0.9985593337355078}"
      ]
     },
     "execution_count": 64,
     "metadata": {},
     "output_type": "execute_result"
    }
   ],
   "source": [
    "model.best_params_"
   ]
  },
  {
   "cell_type": "code",
   "execution_count": null,
   "metadata": {},
   "outputs": [],
   "source": []
  }
 ],
 "metadata": {
  "kernelspec": {
   "display_name": "Python 3",
   "language": "python",
   "name": "python3"
  },
  "language_info": {
   "codemirror_mode": {
    "name": "ipython",
    "version": 3
   },
   "file_extension": ".py",
   "mimetype": "text/x-python",
   "name": "python",
   "nbconvert_exporter": "python",
   "pygments_lexer": "ipython3",
   "version": "3.8.5"
  }
 },
 "nbformat": 4,
 "nbformat_minor": 4
}
